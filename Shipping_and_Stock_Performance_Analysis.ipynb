{
  "nbformat": 4,
  "nbformat_minor": 0,
  "metadata": {
    "colab": {
      "provenance": [],
      "toc_visible": true
    },
    "kernelspec": {
      "name": "python3",
      "display_name": "Python 3"
    },
    "language_info": {
      "name": "python"
    }
  },
  "cells": [
    {
      "cell_type": "markdown",
      "source": [
        "# **- Project Background**"
      ],
      "metadata": {
        "id": "mTpVOWAEfDYG"
      }
    },
    {
      "cell_type": "markdown",
      "source": [
        "- **Obejctive**\n",
        "\n",
        "Project Data Analysis ini dilakukan untuk untuk menganalisa Shipping and Stock Performance dari Q1 - Q2 tahun 2023, Data yang digunakan untuk kita analisis diperoleh dari database BigQuery “thelook_ecommerce”. Dan untuk menjawab permasalahan tersebut akan dilakukan analisis statistik descriptive, inferential, dan visualisasi data.\n",
        "\n",
        "- **Problem Breakdown**\n",
        "\n",
        "Ada beberapa pertanyaan utama yang akan dijawab:\n",
        "\n",
        "    - Seberapa efisien proses pengiriman?\n",
        "    - Berapa rata-rata waktu pengiriman dari pesanan dibuat hingga diterima pelanggan?\n",
        "    - Berapa jumlah pesanan yang berhasil dikirim dan diterima dibandingkan dengan yang dibatalkan?\n",
        "    - Apakah ada indikasi masalah dalam pengelolaan stok berdasarkan jumlah pesanan yang tidak terkirim?\n",
        "    - Bagaimana distribusi jumlah barang dalam satu pesanan?\n",
        "    - Apakah ada perbedaan signifikan dalam waktu pengiriman berdasarkan status pesanan atau faktor lainnya?\n"
      ],
      "metadata": {
        "id": "wXZtGeQGfJZ8"
      }
    },
    {
      "cell_type": "markdown",
      "source": [
        "# **- Import Libaries**"
      ],
      "metadata": {
        "id": "RhoHbcDvrNnm"
      }
    },
    {
      "cell_type": "code",
      "source": [
        "# Import library\n",
        "from google.colab import auth\n",
        "from google.cloud import bigquery\n",
        "import pandas as pd\n",
        "import matplotlib.pyplot as plt\n",
        "import seaborn as sns\n",
        "import scipy.stats as stats\n",
        "from scipy.stats import ttest_ind"
      ],
      "metadata": {
        "id": "j4o1_sAAos-T"
      },
      "execution_count": null,
      "outputs": []
    },
    {
      "cell_type": "markdown",
      "source": [
        "# **- Data Loading**"
      ],
      "metadata": {
        "id": "p4VmO5-prl9-"
      }
    },
    {
      "cell_type": "code",
      "source": [
        "# menghubungkan colab dan BigQuery\n",
        "auth.authenticate_user()\n",
        "print('Authenticated')\n",
        "\n",
        "project_id = \"project-shipping-stock\"\n",
        "client = bigquery.Client(project=project_id)"
      ],
      "metadata": {
        "colab": {
          "base_uri": "https://localhost:8080/"
        },
        "id": "5Ojy17zvo0mS",
        "outputId": "586d6200-8880-42f6-f6a6-de971a8fc945"
      },
      "execution_count": null,
      "outputs": [
        {
          "output_type": "stream",
          "name": "stdout",
          "text": [
            "Authenticated\n"
          ]
        }
      ]
    },
    {
      "cell_type": "code",
      "execution_count": null,
      "metadata": {
        "colab": {
          "base_uri": "https://localhost:8080/",
          "height": 206
        },
        "id": "zdI4acsBnKQc",
        "outputId": "a76d548f-15cf-42c7-c941-02e8d05d6954"
      },
      "outputs": [
        {
          "output_type": "execute_result",
          "data": {
            "text/plain": [
              "   order_id  user_id     status gender                created_at returned_at  \\\n",
              "0        20       16  Cancelled      F 2023-01-23 16:23:00+00:00         NaT   \n",
              "1       121       84  Cancelled      F 2023-01-20 04:17:00+00:00         NaT   \n",
              "2       484      385  Cancelled      F 2023-02-14 08:14:00+00:00         NaT   \n",
              "3       649      521  Cancelled      F 2023-06-19 18:04:00+00:00         NaT   \n",
              "4       684      546  Cancelled      F 2023-05-08 06:18:00+00:00         NaT   \n",
              "\n",
              "  shipped_at delivered_at  num_of_item  \n",
              "0        NaT          NaT            2  \n",
              "1        NaT          NaT            3  \n",
              "2        NaT          NaT            1  \n",
              "3        NaT          NaT            1  \n",
              "4        NaT          NaT            1  "
            ],
            "text/html": [
              "\n",
              "  <div id=\"df-10149c04-d095-4eb6-8d95-05ad72717421\" class=\"colab-df-container\">\n",
              "    <div>\n",
              "<style scoped>\n",
              "    .dataframe tbody tr th:only-of-type {\n",
              "        vertical-align: middle;\n",
              "    }\n",
              "\n",
              "    .dataframe tbody tr th {\n",
              "        vertical-align: top;\n",
              "    }\n",
              "\n",
              "    .dataframe thead th {\n",
              "        text-align: right;\n",
              "    }\n",
              "</style>\n",
              "<table border=\"1\" class=\"dataframe\">\n",
              "  <thead>\n",
              "    <tr style=\"text-align: right;\">\n",
              "      <th></th>\n",
              "      <th>order_id</th>\n",
              "      <th>user_id</th>\n",
              "      <th>status</th>\n",
              "      <th>gender</th>\n",
              "      <th>created_at</th>\n",
              "      <th>returned_at</th>\n",
              "      <th>shipped_at</th>\n",
              "      <th>delivered_at</th>\n",
              "      <th>num_of_item</th>\n",
              "    </tr>\n",
              "  </thead>\n",
              "  <tbody>\n",
              "    <tr>\n",
              "      <th>0</th>\n",
              "      <td>20</td>\n",
              "      <td>16</td>\n",
              "      <td>Cancelled</td>\n",
              "      <td>F</td>\n",
              "      <td>2023-01-23 16:23:00+00:00</td>\n",
              "      <td>NaT</td>\n",
              "      <td>NaT</td>\n",
              "      <td>NaT</td>\n",
              "      <td>2</td>\n",
              "    </tr>\n",
              "    <tr>\n",
              "      <th>1</th>\n",
              "      <td>121</td>\n",
              "      <td>84</td>\n",
              "      <td>Cancelled</td>\n",
              "      <td>F</td>\n",
              "      <td>2023-01-20 04:17:00+00:00</td>\n",
              "      <td>NaT</td>\n",
              "      <td>NaT</td>\n",
              "      <td>NaT</td>\n",
              "      <td>3</td>\n",
              "    </tr>\n",
              "    <tr>\n",
              "      <th>2</th>\n",
              "      <td>484</td>\n",
              "      <td>385</td>\n",
              "      <td>Cancelled</td>\n",
              "      <td>F</td>\n",
              "      <td>2023-02-14 08:14:00+00:00</td>\n",
              "      <td>NaT</td>\n",
              "      <td>NaT</td>\n",
              "      <td>NaT</td>\n",
              "      <td>1</td>\n",
              "    </tr>\n",
              "    <tr>\n",
              "      <th>3</th>\n",
              "      <td>649</td>\n",
              "      <td>521</td>\n",
              "      <td>Cancelled</td>\n",
              "      <td>F</td>\n",
              "      <td>2023-06-19 18:04:00+00:00</td>\n",
              "      <td>NaT</td>\n",
              "      <td>NaT</td>\n",
              "      <td>NaT</td>\n",
              "      <td>1</td>\n",
              "    </tr>\n",
              "    <tr>\n",
              "      <th>4</th>\n",
              "      <td>684</td>\n",
              "      <td>546</td>\n",
              "      <td>Cancelled</td>\n",
              "      <td>F</td>\n",
              "      <td>2023-05-08 06:18:00+00:00</td>\n",
              "      <td>NaT</td>\n",
              "      <td>NaT</td>\n",
              "      <td>NaT</td>\n",
              "      <td>1</td>\n",
              "    </tr>\n",
              "  </tbody>\n",
              "</table>\n",
              "</div>\n",
              "    <div class=\"colab-df-buttons\">\n",
              "\n",
              "  <div class=\"colab-df-container\">\n",
              "    <button class=\"colab-df-convert\" onclick=\"convertToInteractive('df-10149c04-d095-4eb6-8d95-05ad72717421')\"\n",
              "            title=\"Convert this dataframe to an interactive table.\"\n",
              "            style=\"display:none;\">\n",
              "\n",
              "  <svg xmlns=\"http://www.w3.org/2000/svg\" height=\"24px\" viewBox=\"0 -960 960 960\">\n",
              "    <path d=\"M120-120v-720h720v720H120Zm60-500h600v-160H180v160Zm220 220h160v-160H400v160Zm0 220h160v-160H400v160ZM180-400h160v-160H180v160Zm440 0h160v-160H620v160ZM180-180h160v-160H180v160Zm440 0h160v-160H620v160Z\"/>\n",
              "  </svg>\n",
              "    </button>\n",
              "\n",
              "  <style>\n",
              "    .colab-df-container {\n",
              "      display:flex;\n",
              "      gap: 12px;\n",
              "    }\n",
              "\n",
              "    .colab-df-convert {\n",
              "      background-color: #E8F0FE;\n",
              "      border: none;\n",
              "      border-radius: 50%;\n",
              "      cursor: pointer;\n",
              "      display: none;\n",
              "      fill: #1967D2;\n",
              "      height: 32px;\n",
              "      padding: 0 0 0 0;\n",
              "      width: 32px;\n",
              "    }\n",
              "\n",
              "    .colab-df-convert:hover {\n",
              "      background-color: #E2EBFA;\n",
              "      box-shadow: 0px 1px 2px rgba(60, 64, 67, 0.3), 0px 1px 3px 1px rgba(60, 64, 67, 0.15);\n",
              "      fill: #174EA6;\n",
              "    }\n",
              "\n",
              "    .colab-df-buttons div {\n",
              "      margin-bottom: 4px;\n",
              "    }\n",
              "\n",
              "    [theme=dark] .colab-df-convert {\n",
              "      background-color: #3B4455;\n",
              "      fill: #D2E3FC;\n",
              "    }\n",
              "\n",
              "    [theme=dark] .colab-df-convert:hover {\n",
              "      background-color: #434B5C;\n",
              "      box-shadow: 0px 1px 3px 1px rgba(0, 0, 0, 0.15);\n",
              "      filter: drop-shadow(0px 1px 2px rgba(0, 0, 0, 0.3));\n",
              "      fill: #FFFFFF;\n",
              "    }\n",
              "  </style>\n",
              "\n",
              "    <script>\n",
              "      const buttonEl =\n",
              "        document.querySelector('#df-10149c04-d095-4eb6-8d95-05ad72717421 button.colab-df-convert');\n",
              "      buttonEl.style.display =\n",
              "        google.colab.kernel.accessAllowed ? 'block' : 'none';\n",
              "\n",
              "      async function convertToInteractive(key) {\n",
              "        const element = document.querySelector('#df-10149c04-d095-4eb6-8d95-05ad72717421');\n",
              "        const dataTable =\n",
              "          await google.colab.kernel.invokeFunction('convertToInteractive',\n",
              "                                                    [key], {});\n",
              "        if (!dataTable) return;\n",
              "\n",
              "        const docLinkHtml = 'Like what you see? Visit the ' +\n",
              "          '<a target=\"_blank\" href=https://colab.research.google.com/notebooks/data_table.ipynb>data table notebook</a>'\n",
              "          + ' to learn more about interactive tables.';\n",
              "        element.innerHTML = '';\n",
              "        dataTable['output_type'] = 'display_data';\n",
              "        await google.colab.output.renderOutput(dataTable, element);\n",
              "        const docLink = document.createElement('div');\n",
              "        docLink.innerHTML = docLinkHtml;\n",
              "        element.appendChild(docLink);\n",
              "      }\n",
              "    </script>\n",
              "  </div>\n",
              "\n",
              "\n",
              "<div id=\"df-53368907-3c8e-472b-8de8-05370c7a1913\">\n",
              "  <button class=\"colab-df-quickchart\" onclick=\"quickchart('df-53368907-3c8e-472b-8de8-05370c7a1913')\"\n",
              "            title=\"Suggest charts\"\n",
              "            style=\"display:none;\">\n",
              "\n",
              "<svg xmlns=\"http://www.w3.org/2000/svg\" height=\"24px\"viewBox=\"0 0 24 24\"\n",
              "     width=\"24px\">\n",
              "    <g>\n",
              "        <path d=\"M19 3H5c-1.1 0-2 .9-2 2v14c0 1.1.9 2 2 2h14c1.1 0 2-.9 2-2V5c0-1.1-.9-2-2-2zM9 17H7v-7h2v7zm4 0h-2V7h2v10zm4 0h-2v-4h2v4z\"/>\n",
              "    </g>\n",
              "</svg>\n",
              "  </button>\n",
              "\n",
              "<style>\n",
              "  .colab-df-quickchart {\n",
              "      --bg-color: #E8F0FE;\n",
              "      --fill-color: #1967D2;\n",
              "      --hover-bg-color: #E2EBFA;\n",
              "      --hover-fill-color: #174EA6;\n",
              "      --disabled-fill-color: #AAA;\n",
              "      --disabled-bg-color: #DDD;\n",
              "  }\n",
              "\n",
              "  [theme=dark] .colab-df-quickchart {\n",
              "      --bg-color: #3B4455;\n",
              "      --fill-color: #D2E3FC;\n",
              "      --hover-bg-color: #434B5C;\n",
              "      --hover-fill-color: #FFFFFF;\n",
              "      --disabled-bg-color: #3B4455;\n",
              "      --disabled-fill-color: #666;\n",
              "  }\n",
              "\n",
              "  .colab-df-quickchart {\n",
              "    background-color: var(--bg-color);\n",
              "    border: none;\n",
              "    border-radius: 50%;\n",
              "    cursor: pointer;\n",
              "    display: none;\n",
              "    fill: var(--fill-color);\n",
              "    height: 32px;\n",
              "    padding: 0;\n",
              "    width: 32px;\n",
              "  }\n",
              "\n",
              "  .colab-df-quickchart:hover {\n",
              "    background-color: var(--hover-bg-color);\n",
              "    box-shadow: 0 1px 2px rgba(60, 64, 67, 0.3), 0 1px 3px 1px rgba(60, 64, 67, 0.15);\n",
              "    fill: var(--button-hover-fill-color);\n",
              "  }\n",
              "\n",
              "  .colab-df-quickchart-complete:disabled,\n",
              "  .colab-df-quickchart-complete:disabled:hover {\n",
              "    background-color: var(--disabled-bg-color);\n",
              "    fill: var(--disabled-fill-color);\n",
              "    box-shadow: none;\n",
              "  }\n",
              "\n",
              "  .colab-df-spinner {\n",
              "    border: 2px solid var(--fill-color);\n",
              "    border-color: transparent;\n",
              "    border-bottom-color: var(--fill-color);\n",
              "    animation:\n",
              "      spin 1s steps(1) infinite;\n",
              "  }\n",
              "\n",
              "  @keyframes spin {\n",
              "    0% {\n",
              "      border-color: transparent;\n",
              "      border-bottom-color: var(--fill-color);\n",
              "      border-left-color: var(--fill-color);\n",
              "    }\n",
              "    20% {\n",
              "      border-color: transparent;\n",
              "      border-left-color: var(--fill-color);\n",
              "      border-top-color: var(--fill-color);\n",
              "    }\n",
              "    30% {\n",
              "      border-color: transparent;\n",
              "      border-left-color: var(--fill-color);\n",
              "      border-top-color: var(--fill-color);\n",
              "      border-right-color: var(--fill-color);\n",
              "    }\n",
              "    40% {\n",
              "      border-color: transparent;\n",
              "      border-right-color: var(--fill-color);\n",
              "      border-top-color: var(--fill-color);\n",
              "    }\n",
              "    60% {\n",
              "      border-color: transparent;\n",
              "      border-right-color: var(--fill-color);\n",
              "    }\n",
              "    80% {\n",
              "      border-color: transparent;\n",
              "      border-right-color: var(--fill-color);\n",
              "      border-bottom-color: var(--fill-color);\n",
              "    }\n",
              "    90% {\n",
              "      border-color: transparent;\n",
              "      border-bottom-color: var(--fill-color);\n",
              "    }\n",
              "  }\n",
              "</style>\n",
              "\n",
              "  <script>\n",
              "    async function quickchart(key) {\n",
              "      const quickchartButtonEl =\n",
              "        document.querySelector('#' + key + ' button');\n",
              "      quickchartButtonEl.disabled = true;  // To prevent multiple clicks.\n",
              "      quickchartButtonEl.classList.add('colab-df-spinner');\n",
              "      try {\n",
              "        const charts = await google.colab.kernel.invokeFunction(\n",
              "            'suggestCharts', [key], {});\n",
              "      } catch (error) {\n",
              "        console.error('Error during call to suggestCharts:', error);\n",
              "      }\n",
              "      quickchartButtonEl.classList.remove('colab-df-spinner');\n",
              "      quickchartButtonEl.classList.add('colab-df-quickchart-complete');\n",
              "    }\n",
              "    (() => {\n",
              "      let quickchartButtonEl =\n",
              "        document.querySelector('#df-53368907-3c8e-472b-8de8-05370c7a1913 button');\n",
              "      quickchartButtonEl.style.display =\n",
              "        google.colab.kernel.accessAllowed ? 'block' : 'none';\n",
              "    })();\n",
              "  </script>\n",
              "</div>\n",
              "\n",
              "    </div>\n",
              "  </div>\n"
            ],
            "application/vnd.google.colaboratory.intrinsic+json": {
              "type": "dataframe",
              "variable_name": "df",
              "summary": "{\n  \"name\": \"df\",\n  \"rows\": 11975,\n  \"fields\": [\n    {\n      \"column\": \"order_id\",\n      \"properties\": {\n        \"dtype\": \"Int64\",\n        \"num_unique_values\": 11975,\n        \"samples\": [\n          76763,\n          103250,\n          31900\n        ],\n        \"semantic_type\": \"\",\n        \"description\": \"\"\n      }\n    },\n    {\n      \"column\": \"user_id\",\n      \"properties\": {\n        \"dtype\": \"Int64\",\n        \"num_unique_values\": 11072,\n        \"samples\": [\n          5648,\n          25768,\n          45744\n        ],\n        \"semantic_type\": \"\",\n        \"description\": \"\"\n      }\n    },\n    {\n      \"column\": \"status\",\n      \"properties\": {\n        \"dtype\": \"category\",\n        \"num_unique_values\": 5,\n        \"samples\": [\n          \"Complete\",\n          \"Shipped\",\n          \"Processing\"\n        ],\n        \"semantic_type\": \"\",\n        \"description\": \"\"\n      }\n    },\n    {\n      \"column\": \"gender\",\n      \"properties\": {\n        \"dtype\": \"category\",\n        \"num_unique_values\": 2,\n        \"samples\": [\n          \"M\",\n          \"F\"\n        ],\n        \"semantic_type\": \"\",\n        \"description\": \"\"\n      }\n    },\n    {\n      \"column\": \"created_at\",\n      \"properties\": {\n        \"dtype\": \"date\",\n        \"min\": \"2023-01-01 00:16:00+00:00\",\n        \"max\": \"2023-06-30 18:52:00+00:00\",\n        \"num_unique_values\": 11669,\n        \"samples\": [\n          \"2023-02-20 01:20:00+00:00\",\n          \"2023-05-31 06:36:00+00:00\"\n        ],\n        \"semantic_type\": \"\",\n        \"description\": \"\"\n      }\n    },\n    {\n      \"column\": \"returned_at\",\n      \"properties\": {\n        \"dtype\": \"date\",\n        \"min\": \"2023-01-03 14:16:00+00:00\",\n        \"max\": \"2023-07-09 18:33:00+00:00\",\n        \"num_unique_values\": 1208,\n        \"samples\": [\n          \"2023-01-09 03:19:00+00:00\",\n          \"2023-04-16 16:45:00+00:00\"\n        ],\n        \"semantic_type\": \"\",\n        \"description\": \"\"\n      }\n    },\n    {\n      \"column\": \"shipped_at\",\n      \"properties\": {\n        \"dtype\": \"date\",\n        \"min\": \"2023-01-01 07:05:00+00:00\",\n        \"max\": \"2023-07-03 16:05:00+00:00\",\n        \"num_unique_values\": 7711,\n        \"samples\": [\n          \"2023-03-14 10:07:00+00:00\",\n          \"2023-04-18 06:04:00+00:00\"\n        ],\n        \"semantic_type\": \"\",\n        \"description\": \"\"\n      }\n    },\n    {\n      \"column\": \"delivered_at\",\n      \"properties\": {\n        \"dtype\": \"date\",\n        \"min\": \"2023-01-01 12:22:00+00:00\",\n        \"max\": \"2023-07-07 23:42:00+00:00\",\n        \"num_unique_values\": 4219,\n        \"samples\": [\n          \"2023-04-04 02:55:00+00:00\",\n          \"2023-05-21 00:22:00+00:00\"\n        ],\n        \"semantic_type\": \"\",\n        \"description\": \"\"\n      }\n    },\n    {\n      \"column\": \"num_of_item\",\n      \"properties\": {\n        \"dtype\": \"Int64\",\n        \"num_unique_values\": 4,\n        \"samples\": [\n          3,\n          4\n        ],\n        \"semantic_type\": \"\",\n        \"description\": \"\"\n      }\n    }\n  ]\n}"
            }
          },
          "metadata": {},
          "execution_count": 4
        }
      ],
      "source": [
        "# Query data hanya untuk periode Q1 - Q2 2023\n",
        "query = \"\"\"\n",
        "SELECT\n",
        "    order_id,\n",
        "    user_id,\n",
        "    status,\n",
        "    gender,\n",
        "    created_at,\n",
        "    returned_at,\n",
        "    shipped_at,\n",
        "    delivered_at,\n",
        "    num_of_item\n",
        "FROM `bigquery-public-data.thelook_ecommerce.orders`\n",
        "WHERE DATE(created_at) BETWEEN '2023-01-01' AND '2023-06-30'\n",
        "\"\"\"\n",
        "df = client.query(query).to_dataframe()\n",
        "df.head()"
      ]
    },
    {
      "cell_type": "code",
      "source": [
        "df.info()"
      ],
      "metadata": {
        "colab": {
          "base_uri": "https://localhost:8080/"
        },
        "id": "H2-et5xBc95N",
        "outputId": "99b77a6b-b8a2-4d37-a086-d68127889b45"
      },
      "execution_count": null,
      "outputs": [
        {
          "output_type": "stream",
          "name": "stdout",
          "text": [
            "<class 'pandas.core.frame.DataFrame'>\n",
            "RangeIndex: 11975 entries, 0 to 11974\n",
            "Data columns (total 9 columns):\n",
            " #   Column        Non-Null Count  Dtype              \n",
            "---  ------        --------------  -----              \n",
            " 0   order_id      11975 non-null  Int64              \n",
            " 1   user_id       11975 non-null  Int64              \n",
            " 2   status        11975 non-null  object             \n",
            " 3   gender        11975 non-null  object             \n",
            " 4   created_at    11975 non-null  datetime64[us, UTC]\n",
            " 5   returned_at   1209 non-null   datetime64[us, UTC]\n",
            " 6   shipped_at    7825 non-null   datetime64[us, UTC]\n",
            " 7   delivered_at  4250 non-null   datetime64[us, UTC]\n",
            " 8   num_of_item   11975 non-null  Int64              \n",
            "dtypes: Int64(3), datetime64[us, UTC](4), object(2)\n",
            "memory usage: 877.2+ KB\n"
          ]
        }
      ]
    },
    {
      "cell_type": "markdown",
      "source": [
        "Insight yang dapat diambil:\n",
        "- Terdapat 11.935 pesanan dalam periode Januari - Juni 2023.\n",
        "- Banyak pesanan tidak sampai ke pelanggan hanya sekitar 35% pesanan yang dikirim berhasil sampai, kemungkinan karena masalah logistik atau stok barang.\n",
        "- Tingkat pengembalian barang cukup tinggi kurang lebih sekitar 10%. Perlu analisis lebih lanjut untuk memahami penyebabnya.\n",
        "- Jumlah pesanan yang dikirim lebih tinggi dari yang sampai kemungkinan Perlu evaluasi proses distribusi dan efisiensi pengiriman.\n"
      ],
      "metadata": {
        "id": "6QAOYVIcd1LV"
      }
    },
    {
      "cell_type": "code",
      "source": [
        "df.isnull().sum()"
      ],
      "metadata": {
        "colab": {
          "base_uri": "https://localhost:8080/",
          "height": 366
        },
        "id": "ddmSH7BjWFcg",
        "outputId": "00c60a6b-ea48-4c9e-93e6-ac7eb808362f"
      },
      "execution_count": null,
      "outputs": [
        {
          "output_type": "execute_result",
          "data": {
            "text/plain": [
              "order_id            0\n",
              "user_id             0\n",
              "status              0\n",
              "gender              0\n",
              "created_at          0\n",
              "returned_at     10766\n",
              "shipped_at       4150\n",
              "delivered_at     7725\n",
              "num_of_item         0\n",
              "dtype: int64"
            ],
            "text/html": [
              "<div>\n",
              "<style scoped>\n",
              "    .dataframe tbody tr th:only-of-type {\n",
              "        vertical-align: middle;\n",
              "    }\n",
              "\n",
              "    .dataframe tbody tr th {\n",
              "        vertical-align: top;\n",
              "    }\n",
              "\n",
              "    .dataframe thead th {\n",
              "        text-align: right;\n",
              "    }\n",
              "</style>\n",
              "<table border=\"1\" class=\"dataframe\">\n",
              "  <thead>\n",
              "    <tr style=\"text-align: right;\">\n",
              "      <th></th>\n",
              "      <th>0</th>\n",
              "    </tr>\n",
              "  </thead>\n",
              "  <tbody>\n",
              "    <tr>\n",
              "      <th>order_id</th>\n",
              "      <td>0</td>\n",
              "    </tr>\n",
              "    <tr>\n",
              "      <th>user_id</th>\n",
              "      <td>0</td>\n",
              "    </tr>\n",
              "    <tr>\n",
              "      <th>status</th>\n",
              "      <td>0</td>\n",
              "    </tr>\n",
              "    <tr>\n",
              "      <th>gender</th>\n",
              "      <td>0</td>\n",
              "    </tr>\n",
              "    <tr>\n",
              "      <th>created_at</th>\n",
              "      <td>0</td>\n",
              "    </tr>\n",
              "    <tr>\n",
              "      <th>returned_at</th>\n",
              "      <td>10766</td>\n",
              "    </tr>\n",
              "    <tr>\n",
              "      <th>shipped_at</th>\n",
              "      <td>4150</td>\n",
              "    </tr>\n",
              "    <tr>\n",
              "      <th>delivered_at</th>\n",
              "      <td>7725</td>\n",
              "    </tr>\n",
              "    <tr>\n",
              "      <th>num_of_item</th>\n",
              "      <td>0</td>\n",
              "    </tr>\n",
              "  </tbody>\n",
              "</table>\n",
              "</div><br><label><b>dtype:</b> int64</label>"
            ]
          },
          "metadata": {},
          "execution_count": 6
        }
      ]
    },
    {
      "cell_type": "code",
      "source": [
        "df.describe().T"
      ],
      "metadata": {
        "colab": {
          "base_uri": "https://localhost:8080/",
          "height": 143
        },
        "id": "6HoWdYpKWQvi",
        "outputId": "bd12f1a7-a3fd-4c70-f566-36ba674c2f97"
      },
      "execution_count": null,
      "outputs": [
        {
          "output_type": "execute_result",
          "data": {
            "text/plain": [
              "               count          mean           std  min      25%      50%  \\\n",
              "order_id     11975.0  62314.217035  35988.895914  4.0  30794.0  62468.0   \n",
              "user_id      11975.0  49891.707891   28813.39996  5.0  24643.0  49980.0   \n",
              "num_of_item  11975.0      1.466973      0.823424  1.0      1.0      1.0   \n",
              "\n",
              "                 75%       max  \n",
              "order_id     93225.5  124909.0  \n",
              "user_id      74689.5   99978.0  \n",
              "num_of_item      2.0       4.0  "
            ],
            "text/html": [
              "\n",
              "  <div id=\"df-2a948873-7391-4079-96e3-34fea0ee5b82\" class=\"colab-df-container\">\n",
              "    <div>\n",
              "<style scoped>\n",
              "    .dataframe tbody tr th:only-of-type {\n",
              "        vertical-align: middle;\n",
              "    }\n",
              "\n",
              "    .dataframe tbody tr th {\n",
              "        vertical-align: top;\n",
              "    }\n",
              "\n",
              "    .dataframe thead th {\n",
              "        text-align: right;\n",
              "    }\n",
              "</style>\n",
              "<table border=\"1\" class=\"dataframe\">\n",
              "  <thead>\n",
              "    <tr style=\"text-align: right;\">\n",
              "      <th></th>\n",
              "      <th>count</th>\n",
              "      <th>mean</th>\n",
              "      <th>std</th>\n",
              "      <th>min</th>\n",
              "      <th>25%</th>\n",
              "      <th>50%</th>\n",
              "      <th>75%</th>\n",
              "      <th>max</th>\n",
              "    </tr>\n",
              "  </thead>\n",
              "  <tbody>\n",
              "    <tr>\n",
              "      <th>order_id</th>\n",
              "      <td>11975.0</td>\n",
              "      <td>62314.217035</td>\n",
              "      <td>35988.895914</td>\n",
              "      <td>4.0</td>\n",
              "      <td>30794.0</td>\n",
              "      <td>62468.0</td>\n",
              "      <td>93225.5</td>\n",
              "      <td>124909.0</td>\n",
              "    </tr>\n",
              "    <tr>\n",
              "      <th>user_id</th>\n",
              "      <td>11975.0</td>\n",
              "      <td>49891.707891</td>\n",
              "      <td>28813.39996</td>\n",
              "      <td>5.0</td>\n",
              "      <td>24643.0</td>\n",
              "      <td>49980.0</td>\n",
              "      <td>74689.5</td>\n",
              "      <td>99978.0</td>\n",
              "    </tr>\n",
              "    <tr>\n",
              "      <th>num_of_item</th>\n",
              "      <td>11975.0</td>\n",
              "      <td>1.466973</td>\n",
              "      <td>0.823424</td>\n",
              "      <td>1.0</td>\n",
              "      <td>1.0</td>\n",
              "      <td>1.0</td>\n",
              "      <td>2.0</td>\n",
              "      <td>4.0</td>\n",
              "    </tr>\n",
              "  </tbody>\n",
              "</table>\n",
              "</div>\n",
              "    <div class=\"colab-df-buttons\">\n",
              "\n",
              "  <div class=\"colab-df-container\">\n",
              "    <button class=\"colab-df-convert\" onclick=\"convertToInteractive('df-2a948873-7391-4079-96e3-34fea0ee5b82')\"\n",
              "            title=\"Convert this dataframe to an interactive table.\"\n",
              "            style=\"display:none;\">\n",
              "\n",
              "  <svg xmlns=\"http://www.w3.org/2000/svg\" height=\"24px\" viewBox=\"0 -960 960 960\">\n",
              "    <path d=\"M120-120v-720h720v720H120Zm60-500h600v-160H180v160Zm220 220h160v-160H400v160Zm0 220h160v-160H400v160ZM180-400h160v-160H180v160Zm440 0h160v-160H620v160ZM180-180h160v-160H180v160Zm440 0h160v-160H620v160Z\"/>\n",
              "  </svg>\n",
              "    </button>\n",
              "\n",
              "  <style>\n",
              "    .colab-df-container {\n",
              "      display:flex;\n",
              "      gap: 12px;\n",
              "    }\n",
              "\n",
              "    .colab-df-convert {\n",
              "      background-color: #E8F0FE;\n",
              "      border: none;\n",
              "      border-radius: 50%;\n",
              "      cursor: pointer;\n",
              "      display: none;\n",
              "      fill: #1967D2;\n",
              "      height: 32px;\n",
              "      padding: 0 0 0 0;\n",
              "      width: 32px;\n",
              "    }\n",
              "\n",
              "    .colab-df-convert:hover {\n",
              "      background-color: #E2EBFA;\n",
              "      box-shadow: 0px 1px 2px rgba(60, 64, 67, 0.3), 0px 1px 3px 1px rgba(60, 64, 67, 0.15);\n",
              "      fill: #174EA6;\n",
              "    }\n",
              "\n",
              "    .colab-df-buttons div {\n",
              "      margin-bottom: 4px;\n",
              "    }\n",
              "\n",
              "    [theme=dark] .colab-df-convert {\n",
              "      background-color: #3B4455;\n",
              "      fill: #D2E3FC;\n",
              "    }\n",
              "\n",
              "    [theme=dark] .colab-df-convert:hover {\n",
              "      background-color: #434B5C;\n",
              "      box-shadow: 0px 1px 3px 1px rgba(0, 0, 0, 0.15);\n",
              "      filter: drop-shadow(0px 1px 2px rgba(0, 0, 0, 0.3));\n",
              "      fill: #FFFFFF;\n",
              "    }\n",
              "  </style>\n",
              "\n",
              "    <script>\n",
              "      const buttonEl =\n",
              "        document.querySelector('#df-2a948873-7391-4079-96e3-34fea0ee5b82 button.colab-df-convert');\n",
              "      buttonEl.style.display =\n",
              "        google.colab.kernel.accessAllowed ? 'block' : 'none';\n",
              "\n",
              "      async function convertToInteractive(key) {\n",
              "        const element = document.querySelector('#df-2a948873-7391-4079-96e3-34fea0ee5b82');\n",
              "        const dataTable =\n",
              "          await google.colab.kernel.invokeFunction('convertToInteractive',\n",
              "                                                    [key], {});\n",
              "        if (!dataTable) return;\n",
              "\n",
              "        const docLinkHtml = 'Like what you see? Visit the ' +\n",
              "          '<a target=\"_blank\" href=https://colab.research.google.com/notebooks/data_table.ipynb>data table notebook</a>'\n",
              "          + ' to learn more about interactive tables.';\n",
              "        element.innerHTML = '';\n",
              "        dataTable['output_type'] = 'display_data';\n",
              "        await google.colab.output.renderOutput(dataTable, element);\n",
              "        const docLink = document.createElement('div');\n",
              "        docLink.innerHTML = docLinkHtml;\n",
              "        element.appendChild(docLink);\n",
              "      }\n",
              "    </script>\n",
              "  </div>\n",
              "\n",
              "\n",
              "<div id=\"df-b9a7fc07-ae4c-439a-9efc-05a66f9f0fa2\">\n",
              "  <button class=\"colab-df-quickchart\" onclick=\"quickchart('df-b9a7fc07-ae4c-439a-9efc-05a66f9f0fa2')\"\n",
              "            title=\"Suggest charts\"\n",
              "            style=\"display:none;\">\n",
              "\n",
              "<svg xmlns=\"http://www.w3.org/2000/svg\" height=\"24px\"viewBox=\"0 0 24 24\"\n",
              "     width=\"24px\">\n",
              "    <g>\n",
              "        <path d=\"M19 3H5c-1.1 0-2 .9-2 2v14c0 1.1.9 2 2 2h14c1.1 0 2-.9 2-2V5c0-1.1-.9-2-2-2zM9 17H7v-7h2v7zm4 0h-2V7h2v10zm4 0h-2v-4h2v4z\"/>\n",
              "    </g>\n",
              "</svg>\n",
              "  </button>\n",
              "\n",
              "<style>\n",
              "  .colab-df-quickchart {\n",
              "      --bg-color: #E8F0FE;\n",
              "      --fill-color: #1967D2;\n",
              "      --hover-bg-color: #E2EBFA;\n",
              "      --hover-fill-color: #174EA6;\n",
              "      --disabled-fill-color: #AAA;\n",
              "      --disabled-bg-color: #DDD;\n",
              "  }\n",
              "\n",
              "  [theme=dark] .colab-df-quickchart {\n",
              "      --bg-color: #3B4455;\n",
              "      --fill-color: #D2E3FC;\n",
              "      --hover-bg-color: #434B5C;\n",
              "      --hover-fill-color: #FFFFFF;\n",
              "      --disabled-bg-color: #3B4455;\n",
              "      --disabled-fill-color: #666;\n",
              "  }\n",
              "\n",
              "  .colab-df-quickchart {\n",
              "    background-color: var(--bg-color);\n",
              "    border: none;\n",
              "    border-radius: 50%;\n",
              "    cursor: pointer;\n",
              "    display: none;\n",
              "    fill: var(--fill-color);\n",
              "    height: 32px;\n",
              "    padding: 0;\n",
              "    width: 32px;\n",
              "  }\n",
              "\n",
              "  .colab-df-quickchart:hover {\n",
              "    background-color: var(--hover-bg-color);\n",
              "    box-shadow: 0 1px 2px rgba(60, 64, 67, 0.3), 0 1px 3px 1px rgba(60, 64, 67, 0.15);\n",
              "    fill: var(--button-hover-fill-color);\n",
              "  }\n",
              "\n",
              "  .colab-df-quickchart-complete:disabled,\n",
              "  .colab-df-quickchart-complete:disabled:hover {\n",
              "    background-color: var(--disabled-bg-color);\n",
              "    fill: var(--disabled-fill-color);\n",
              "    box-shadow: none;\n",
              "  }\n",
              "\n",
              "  .colab-df-spinner {\n",
              "    border: 2px solid var(--fill-color);\n",
              "    border-color: transparent;\n",
              "    border-bottom-color: var(--fill-color);\n",
              "    animation:\n",
              "      spin 1s steps(1) infinite;\n",
              "  }\n",
              "\n",
              "  @keyframes spin {\n",
              "    0% {\n",
              "      border-color: transparent;\n",
              "      border-bottom-color: var(--fill-color);\n",
              "      border-left-color: var(--fill-color);\n",
              "    }\n",
              "    20% {\n",
              "      border-color: transparent;\n",
              "      border-left-color: var(--fill-color);\n",
              "      border-top-color: var(--fill-color);\n",
              "    }\n",
              "    30% {\n",
              "      border-color: transparent;\n",
              "      border-left-color: var(--fill-color);\n",
              "      border-top-color: var(--fill-color);\n",
              "      border-right-color: var(--fill-color);\n",
              "    }\n",
              "    40% {\n",
              "      border-color: transparent;\n",
              "      border-right-color: var(--fill-color);\n",
              "      border-top-color: var(--fill-color);\n",
              "    }\n",
              "    60% {\n",
              "      border-color: transparent;\n",
              "      border-right-color: var(--fill-color);\n",
              "    }\n",
              "    80% {\n",
              "      border-color: transparent;\n",
              "      border-right-color: var(--fill-color);\n",
              "      border-bottom-color: var(--fill-color);\n",
              "    }\n",
              "    90% {\n",
              "      border-color: transparent;\n",
              "      border-bottom-color: var(--fill-color);\n",
              "    }\n",
              "  }\n",
              "</style>\n",
              "\n",
              "  <script>\n",
              "    async function quickchart(key) {\n",
              "      const quickchartButtonEl =\n",
              "        document.querySelector('#' + key + ' button');\n",
              "      quickchartButtonEl.disabled = true;  // To prevent multiple clicks.\n",
              "      quickchartButtonEl.classList.add('colab-df-spinner');\n",
              "      try {\n",
              "        const charts = await google.colab.kernel.invokeFunction(\n",
              "            'suggestCharts', [key], {});\n",
              "      } catch (error) {\n",
              "        console.error('Error during call to suggestCharts:', error);\n",
              "      }\n",
              "      quickchartButtonEl.classList.remove('colab-df-spinner');\n",
              "      quickchartButtonEl.classList.add('colab-df-quickchart-complete');\n",
              "    }\n",
              "    (() => {\n",
              "      let quickchartButtonEl =\n",
              "        document.querySelector('#df-b9a7fc07-ae4c-439a-9efc-05a66f9f0fa2 button');\n",
              "      quickchartButtonEl.style.display =\n",
              "        google.colab.kernel.accessAllowed ? 'block' : 'none';\n",
              "    })();\n",
              "  </script>\n",
              "</div>\n",
              "\n",
              "    </div>\n",
              "  </div>\n"
            ],
            "application/vnd.google.colaboratory.intrinsic+json": {
              "type": "dataframe",
              "summary": "{\n  \"name\": \"df\",\n  \"rows\": 3,\n  \"fields\": [\n    {\n      \"column\": \"count\",\n      \"properties\": {\n        \"dtype\": \"Float64\",\n        \"num_unique_values\": 1,\n        \"samples\": [\n          11975.0\n        ],\n        \"semantic_type\": \"\",\n        \"description\": \"\"\n      }\n    },\n    {\n      \"column\": \"mean\",\n      \"properties\": {\n        \"dtype\": \"Float64\",\n        \"num_unique_values\": 3,\n        \"samples\": [\n          62314.217035490605\n        ],\n        \"semantic_type\": \"\",\n        \"description\": \"\"\n      }\n    },\n    {\n      \"column\": \"std\",\n      \"properties\": {\n        \"dtype\": \"Float64\",\n        \"num_unique_values\": 3,\n        \"samples\": [\n          35988.89591426111\n        ],\n        \"semantic_type\": \"\",\n        \"description\": \"\"\n      }\n    },\n    {\n      \"column\": \"min\",\n      \"properties\": {\n        \"dtype\": \"Float64\",\n        \"num_unique_values\": 3,\n        \"samples\": [\n          4.0\n        ],\n        \"semantic_type\": \"\",\n        \"description\": \"\"\n      }\n    },\n    {\n      \"column\": \"25%\",\n      \"properties\": {\n        \"dtype\": \"Float64\",\n        \"num_unique_values\": 3,\n        \"samples\": [\n          30794.0\n        ],\n        \"semantic_type\": \"\",\n        \"description\": \"\"\n      }\n    },\n    {\n      \"column\": \"50%\",\n      \"properties\": {\n        \"dtype\": \"Float64\",\n        \"num_unique_values\": 3,\n        \"samples\": [\n          62468.0\n        ],\n        \"semantic_type\": \"\",\n        \"description\": \"\"\n      }\n    },\n    {\n      \"column\": \"75%\",\n      \"properties\": {\n        \"dtype\": \"Float64\",\n        \"num_unique_values\": 3,\n        \"samples\": [\n          93225.5\n        ],\n        \"semantic_type\": \"\",\n        \"description\": \"\"\n      }\n    },\n    {\n      \"column\": \"max\",\n      \"properties\": {\n        \"dtype\": \"Float64\",\n        \"num_unique_values\": 3,\n        \"samples\": [\n          124909.0\n        ],\n        \"semantic_type\": \"\",\n        \"description\": \"\"\n      }\n    }\n  ]\n}"
            }
          },
          "metadata": {},
          "execution_count": 7
        }
      ]
    },
    {
      "cell_type": "code",
      "source": [
        "df.duplicated().sum()"
      ],
      "metadata": {
        "colab": {
          "base_uri": "https://localhost:8080/"
        },
        "id": "woxrgTmyYjtj",
        "outputId": "2a8470e5-021d-4195-f6ac-93381b624b5c"
      },
      "execution_count": null,
      "outputs": [
        {
          "output_type": "execute_result",
          "data": {
            "text/plain": [
              "0"
            ]
          },
          "metadata": {},
          "execution_count": 8
        }
      ]
    },
    {
      "cell_type": "markdown",
      "source": [
        "Terlihat diatas bahwa tidak ada data yang terduplikasi, maka dari itu kita akan melanjutkan ke bagian data cleaning sebelum kita gunakan dataset ini dalam analysis."
      ],
      "metadata": {
        "id": "Bqyr3U9CYnMl"
      }
    },
    {
      "cell_type": "markdown",
      "source": [
        "# **- Data Processing**"
      ],
      "metadata": {
        "id": "PzFN1R0ZY08e"
      }
    },
    {
      "cell_type": "markdown",
      "source": [
        "Sebelum analisis, ada beberapa hal yang perlu diperhatikan yaitu:\n",
        "\n",
        "- Melihat banyak missing value pada kolom returnet_at, ini bisa saja kemungkinan besar pesanan tidak dikembalikan, bukan berarti data hilang. maka dari itu kita akan mengubahnya ke \"Not Returned\" untuk membedakan pesanan yang dikembalikan dan yang tidak.\n",
        "\n",
        "- Karena kolom shipped_at dan delivered_at tidak bisa sembarangan kita isi karena Data ini sangat penting karena bisa menunjukkan masalah dalam pengiriman atau stok, solusinya kita akan membuat kolom baru yang menandai apakah data hilang daripada mengganti nilainya.\n"
      ],
      "metadata": {
        "id": "CzQ7PLEOY8Hl"
      }
    },
    {
      "cell_type": "code",
      "source": [
        "# 1. Mengisi nilai kosong pada 'returned_at' dengan 'Not Returned'\n",
        "df['returned_at'] = df['returned_at'].fillna('Not Returned')\n",
        "\n",
        "# 2. Membuat kolom baru untuk menandai pesanan yang belum dikirim\n",
        "df['not_shipped'] = df['shipped_at'].isna()\n",
        "\n",
        "# 3. Membuat kolom baru untuk menandai pesanan yang belum diterima\n",
        "df['not_delivered'] = df['delivered_at'].isna()\n",
        "\n",
        "# 4. Cek kembali apakah missing values sudah ditangani\n",
        "df.info()\n",
        "df.head()"
      ],
      "metadata": {
        "colab": {
          "base_uri": "https://localhost:8080/",
          "height": 518
        },
        "id": "0cgHKqfyjsCc",
        "outputId": "e93d1df2-a3ae-4f7b-b434-5d2af74a834b"
      },
      "execution_count": null,
      "outputs": [
        {
          "output_type": "stream",
          "name": "stdout",
          "text": [
            "<class 'pandas.core.frame.DataFrame'>\n",
            "RangeIndex: 11975 entries, 0 to 11974\n",
            "Data columns (total 11 columns):\n",
            " #   Column         Non-Null Count  Dtype              \n",
            "---  ------         --------------  -----              \n",
            " 0   order_id       11975 non-null  Int64              \n",
            " 1   user_id        11975 non-null  Int64              \n",
            " 2   status         11975 non-null  object             \n",
            " 3   gender         11975 non-null  object             \n",
            " 4   created_at     11975 non-null  datetime64[us, UTC]\n",
            " 5   returned_at    11975 non-null  object             \n",
            " 6   shipped_at     7825 non-null   datetime64[us, UTC]\n",
            " 7   delivered_at   4250 non-null   datetime64[us, UTC]\n",
            " 8   num_of_item    11975 non-null  Int64              \n",
            " 9   not_shipped    11975 non-null  bool               \n",
            " 10  not_delivered  11975 non-null  bool               \n",
            "dtypes: Int64(3), bool(2), datetime64[us, UTC](3), object(3)\n",
            "memory usage: 900.6+ KB\n"
          ]
        },
        {
          "output_type": "execute_result",
          "data": {
            "text/plain": [
              "   order_id  user_id     status gender                created_at  \\\n",
              "0        20       16  Cancelled      F 2023-01-23 16:23:00+00:00   \n",
              "1       121       84  Cancelled      F 2023-01-20 04:17:00+00:00   \n",
              "2       484      385  Cancelled      F 2023-02-14 08:14:00+00:00   \n",
              "3       649      521  Cancelled      F 2023-06-19 18:04:00+00:00   \n",
              "4       684      546  Cancelled      F 2023-05-08 06:18:00+00:00   \n",
              "\n",
              "    returned_at shipped_at delivered_at  num_of_item  not_shipped  \\\n",
              "0  Not Returned        NaT          NaT            2         True   \n",
              "1  Not Returned        NaT          NaT            3         True   \n",
              "2  Not Returned        NaT          NaT            1         True   \n",
              "3  Not Returned        NaT          NaT            1         True   \n",
              "4  Not Returned        NaT          NaT            1         True   \n",
              "\n",
              "   not_delivered  \n",
              "0           True  \n",
              "1           True  \n",
              "2           True  \n",
              "3           True  \n",
              "4           True  "
            ],
            "text/html": [
              "\n",
              "  <div id=\"df-ecbcb568-1177-42bc-84b4-131855d080d3\" class=\"colab-df-container\">\n",
              "    <div>\n",
              "<style scoped>\n",
              "    .dataframe tbody tr th:only-of-type {\n",
              "        vertical-align: middle;\n",
              "    }\n",
              "\n",
              "    .dataframe tbody tr th {\n",
              "        vertical-align: top;\n",
              "    }\n",
              "\n",
              "    .dataframe thead th {\n",
              "        text-align: right;\n",
              "    }\n",
              "</style>\n",
              "<table border=\"1\" class=\"dataframe\">\n",
              "  <thead>\n",
              "    <tr style=\"text-align: right;\">\n",
              "      <th></th>\n",
              "      <th>order_id</th>\n",
              "      <th>user_id</th>\n",
              "      <th>status</th>\n",
              "      <th>gender</th>\n",
              "      <th>created_at</th>\n",
              "      <th>returned_at</th>\n",
              "      <th>shipped_at</th>\n",
              "      <th>delivered_at</th>\n",
              "      <th>num_of_item</th>\n",
              "      <th>not_shipped</th>\n",
              "      <th>not_delivered</th>\n",
              "    </tr>\n",
              "  </thead>\n",
              "  <tbody>\n",
              "    <tr>\n",
              "      <th>0</th>\n",
              "      <td>20</td>\n",
              "      <td>16</td>\n",
              "      <td>Cancelled</td>\n",
              "      <td>F</td>\n",
              "      <td>2023-01-23 16:23:00+00:00</td>\n",
              "      <td>Not Returned</td>\n",
              "      <td>NaT</td>\n",
              "      <td>NaT</td>\n",
              "      <td>2</td>\n",
              "      <td>True</td>\n",
              "      <td>True</td>\n",
              "    </tr>\n",
              "    <tr>\n",
              "      <th>1</th>\n",
              "      <td>121</td>\n",
              "      <td>84</td>\n",
              "      <td>Cancelled</td>\n",
              "      <td>F</td>\n",
              "      <td>2023-01-20 04:17:00+00:00</td>\n",
              "      <td>Not Returned</td>\n",
              "      <td>NaT</td>\n",
              "      <td>NaT</td>\n",
              "      <td>3</td>\n",
              "      <td>True</td>\n",
              "      <td>True</td>\n",
              "    </tr>\n",
              "    <tr>\n",
              "      <th>2</th>\n",
              "      <td>484</td>\n",
              "      <td>385</td>\n",
              "      <td>Cancelled</td>\n",
              "      <td>F</td>\n",
              "      <td>2023-02-14 08:14:00+00:00</td>\n",
              "      <td>Not Returned</td>\n",
              "      <td>NaT</td>\n",
              "      <td>NaT</td>\n",
              "      <td>1</td>\n",
              "      <td>True</td>\n",
              "      <td>True</td>\n",
              "    </tr>\n",
              "    <tr>\n",
              "      <th>3</th>\n",
              "      <td>649</td>\n",
              "      <td>521</td>\n",
              "      <td>Cancelled</td>\n",
              "      <td>F</td>\n",
              "      <td>2023-06-19 18:04:00+00:00</td>\n",
              "      <td>Not Returned</td>\n",
              "      <td>NaT</td>\n",
              "      <td>NaT</td>\n",
              "      <td>1</td>\n",
              "      <td>True</td>\n",
              "      <td>True</td>\n",
              "    </tr>\n",
              "    <tr>\n",
              "      <th>4</th>\n",
              "      <td>684</td>\n",
              "      <td>546</td>\n",
              "      <td>Cancelled</td>\n",
              "      <td>F</td>\n",
              "      <td>2023-05-08 06:18:00+00:00</td>\n",
              "      <td>Not Returned</td>\n",
              "      <td>NaT</td>\n",
              "      <td>NaT</td>\n",
              "      <td>1</td>\n",
              "      <td>True</td>\n",
              "      <td>True</td>\n",
              "    </tr>\n",
              "  </tbody>\n",
              "</table>\n",
              "</div>\n",
              "    <div class=\"colab-df-buttons\">\n",
              "\n",
              "  <div class=\"colab-df-container\">\n",
              "    <button class=\"colab-df-convert\" onclick=\"convertToInteractive('df-ecbcb568-1177-42bc-84b4-131855d080d3')\"\n",
              "            title=\"Convert this dataframe to an interactive table.\"\n",
              "            style=\"display:none;\">\n",
              "\n",
              "  <svg xmlns=\"http://www.w3.org/2000/svg\" height=\"24px\" viewBox=\"0 -960 960 960\">\n",
              "    <path d=\"M120-120v-720h720v720H120Zm60-500h600v-160H180v160Zm220 220h160v-160H400v160Zm0 220h160v-160H400v160ZM180-400h160v-160H180v160Zm440 0h160v-160H620v160ZM180-180h160v-160H180v160Zm440 0h160v-160H620v160Z\"/>\n",
              "  </svg>\n",
              "    </button>\n",
              "\n",
              "  <style>\n",
              "    .colab-df-container {\n",
              "      display:flex;\n",
              "      gap: 12px;\n",
              "    }\n",
              "\n",
              "    .colab-df-convert {\n",
              "      background-color: #E8F0FE;\n",
              "      border: none;\n",
              "      border-radius: 50%;\n",
              "      cursor: pointer;\n",
              "      display: none;\n",
              "      fill: #1967D2;\n",
              "      height: 32px;\n",
              "      padding: 0 0 0 0;\n",
              "      width: 32px;\n",
              "    }\n",
              "\n",
              "    .colab-df-convert:hover {\n",
              "      background-color: #E2EBFA;\n",
              "      box-shadow: 0px 1px 2px rgba(60, 64, 67, 0.3), 0px 1px 3px 1px rgba(60, 64, 67, 0.15);\n",
              "      fill: #174EA6;\n",
              "    }\n",
              "\n",
              "    .colab-df-buttons div {\n",
              "      margin-bottom: 4px;\n",
              "    }\n",
              "\n",
              "    [theme=dark] .colab-df-convert {\n",
              "      background-color: #3B4455;\n",
              "      fill: #D2E3FC;\n",
              "    }\n",
              "\n",
              "    [theme=dark] .colab-df-convert:hover {\n",
              "      background-color: #434B5C;\n",
              "      box-shadow: 0px 1px 3px 1px rgba(0, 0, 0, 0.15);\n",
              "      filter: drop-shadow(0px 1px 2px rgba(0, 0, 0, 0.3));\n",
              "      fill: #FFFFFF;\n",
              "    }\n",
              "  </style>\n",
              "\n",
              "    <script>\n",
              "      const buttonEl =\n",
              "        document.querySelector('#df-ecbcb568-1177-42bc-84b4-131855d080d3 button.colab-df-convert');\n",
              "      buttonEl.style.display =\n",
              "        google.colab.kernel.accessAllowed ? 'block' : 'none';\n",
              "\n",
              "      async function convertToInteractive(key) {\n",
              "        const element = document.querySelector('#df-ecbcb568-1177-42bc-84b4-131855d080d3');\n",
              "        const dataTable =\n",
              "          await google.colab.kernel.invokeFunction('convertToInteractive',\n",
              "                                                    [key], {});\n",
              "        if (!dataTable) return;\n",
              "\n",
              "        const docLinkHtml = 'Like what you see? Visit the ' +\n",
              "          '<a target=\"_blank\" href=https://colab.research.google.com/notebooks/data_table.ipynb>data table notebook</a>'\n",
              "          + ' to learn more about interactive tables.';\n",
              "        element.innerHTML = '';\n",
              "        dataTable['output_type'] = 'display_data';\n",
              "        await google.colab.output.renderOutput(dataTable, element);\n",
              "        const docLink = document.createElement('div');\n",
              "        docLink.innerHTML = docLinkHtml;\n",
              "        element.appendChild(docLink);\n",
              "      }\n",
              "    </script>\n",
              "  </div>\n",
              "\n",
              "\n",
              "<div id=\"df-71c2e7e8-329b-4357-a4e0-0ccb1623d242\">\n",
              "  <button class=\"colab-df-quickchart\" onclick=\"quickchart('df-71c2e7e8-329b-4357-a4e0-0ccb1623d242')\"\n",
              "            title=\"Suggest charts\"\n",
              "            style=\"display:none;\">\n",
              "\n",
              "<svg xmlns=\"http://www.w3.org/2000/svg\" height=\"24px\"viewBox=\"0 0 24 24\"\n",
              "     width=\"24px\">\n",
              "    <g>\n",
              "        <path d=\"M19 3H5c-1.1 0-2 .9-2 2v14c0 1.1.9 2 2 2h14c1.1 0 2-.9 2-2V5c0-1.1-.9-2-2-2zM9 17H7v-7h2v7zm4 0h-2V7h2v10zm4 0h-2v-4h2v4z\"/>\n",
              "    </g>\n",
              "</svg>\n",
              "  </button>\n",
              "\n",
              "<style>\n",
              "  .colab-df-quickchart {\n",
              "      --bg-color: #E8F0FE;\n",
              "      --fill-color: #1967D2;\n",
              "      --hover-bg-color: #E2EBFA;\n",
              "      --hover-fill-color: #174EA6;\n",
              "      --disabled-fill-color: #AAA;\n",
              "      --disabled-bg-color: #DDD;\n",
              "  }\n",
              "\n",
              "  [theme=dark] .colab-df-quickchart {\n",
              "      --bg-color: #3B4455;\n",
              "      --fill-color: #D2E3FC;\n",
              "      --hover-bg-color: #434B5C;\n",
              "      --hover-fill-color: #FFFFFF;\n",
              "      --disabled-bg-color: #3B4455;\n",
              "      --disabled-fill-color: #666;\n",
              "  }\n",
              "\n",
              "  .colab-df-quickchart {\n",
              "    background-color: var(--bg-color);\n",
              "    border: none;\n",
              "    border-radius: 50%;\n",
              "    cursor: pointer;\n",
              "    display: none;\n",
              "    fill: var(--fill-color);\n",
              "    height: 32px;\n",
              "    padding: 0;\n",
              "    width: 32px;\n",
              "  }\n",
              "\n",
              "  .colab-df-quickchart:hover {\n",
              "    background-color: var(--hover-bg-color);\n",
              "    box-shadow: 0 1px 2px rgba(60, 64, 67, 0.3), 0 1px 3px 1px rgba(60, 64, 67, 0.15);\n",
              "    fill: var(--button-hover-fill-color);\n",
              "  }\n",
              "\n",
              "  .colab-df-quickchart-complete:disabled,\n",
              "  .colab-df-quickchart-complete:disabled:hover {\n",
              "    background-color: var(--disabled-bg-color);\n",
              "    fill: var(--disabled-fill-color);\n",
              "    box-shadow: none;\n",
              "  }\n",
              "\n",
              "  .colab-df-spinner {\n",
              "    border: 2px solid var(--fill-color);\n",
              "    border-color: transparent;\n",
              "    border-bottom-color: var(--fill-color);\n",
              "    animation:\n",
              "      spin 1s steps(1) infinite;\n",
              "  }\n",
              "\n",
              "  @keyframes spin {\n",
              "    0% {\n",
              "      border-color: transparent;\n",
              "      border-bottom-color: var(--fill-color);\n",
              "      border-left-color: var(--fill-color);\n",
              "    }\n",
              "    20% {\n",
              "      border-color: transparent;\n",
              "      border-left-color: var(--fill-color);\n",
              "      border-top-color: var(--fill-color);\n",
              "    }\n",
              "    30% {\n",
              "      border-color: transparent;\n",
              "      border-left-color: var(--fill-color);\n",
              "      border-top-color: var(--fill-color);\n",
              "      border-right-color: var(--fill-color);\n",
              "    }\n",
              "    40% {\n",
              "      border-color: transparent;\n",
              "      border-right-color: var(--fill-color);\n",
              "      border-top-color: var(--fill-color);\n",
              "    }\n",
              "    60% {\n",
              "      border-color: transparent;\n",
              "      border-right-color: var(--fill-color);\n",
              "    }\n",
              "    80% {\n",
              "      border-color: transparent;\n",
              "      border-right-color: var(--fill-color);\n",
              "      border-bottom-color: var(--fill-color);\n",
              "    }\n",
              "    90% {\n",
              "      border-color: transparent;\n",
              "      border-bottom-color: var(--fill-color);\n",
              "    }\n",
              "  }\n",
              "</style>\n",
              "\n",
              "  <script>\n",
              "    async function quickchart(key) {\n",
              "      const quickchartButtonEl =\n",
              "        document.querySelector('#' + key + ' button');\n",
              "      quickchartButtonEl.disabled = true;  // To prevent multiple clicks.\n",
              "      quickchartButtonEl.classList.add('colab-df-spinner');\n",
              "      try {\n",
              "        const charts = await google.colab.kernel.invokeFunction(\n",
              "            'suggestCharts', [key], {});\n",
              "      } catch (error) {\n",
              "        console.error('Error during call to suggestCharts:', error);\n",
              "      }\n",
              "      quickchartButtonEl.classList.remove('colab-df-spinner');\n",
              "      quickchartButtonEl.classList.add('colab-df-quickchart-complete');\n",
              "    }\n",
              "    (() => {\n",
              "      let quickchartButtonEl =\n",
              "        document.querySelector('#df-71c2e7e8-329b-4357-a4e0-0ccb1623d242 button');\n",
              "      quickchartButtonEl.style.display =\n",
              "        google.colab.kernel.accessAllowed ? 'block' : 'none';\n",
              "    })();\n",
              "  </script>\n",
              "</div>\n",
              "\n",
              "    </div>\n",
              "  </div>\n"
            ],
            "application/vnd.google.colaboratory.intrinsic+json": {
              "type": "dataframe",
              "variable_name": "df",
              "summary": "{\n  \"name\": \"df\",\n  \"rows\": 11975,\n  \"fields\": [\n    {\n      \"column\": \"order_id\",\n      \"properties\": {\n        \"dtype\": \"Int64\",\n        \"num_unique_values\": 11975,\n        \"samples\": [\n          76763,\n          103250,\n          31900\n        ],\n        \"semantic_type\": \"\",\n        \"description\": \"\"\n      }\n    },\n    {\n      \"column\": \"user_id\",\n      \"properties\": {\n        \"dtype\": \"Int64\",\n        \"num_unique_values\": 11072,\n        \"samples\": [\n          5648,\n          25768,\n          45744\n        ],\n        \"semantic_type\": \"\",\n        \"description\": \"\"\n      }\n    },\n    {\n      \"column\": \"status\",\n      \"properties\": {\n        \"dtype\": \"category\",\n        \"num_unique_values\": 5,\n        \"samples\": [\n          \"Complete\",\n          \"Shipped\",\n          \"Processing\"\n        ],\n        \"semantic_type\": \"\",\n        \"description\": \"\"\n      }\n    },\n    {\n      \"column\": \"gender\",\n      \"properties\": {\n        \"dtype\": \"category\",\n        \"num_unique_values\": 2,\n        \"samples\": [\n          \"M\",\n          \"F\"\n        ],\n        \"semantic_type\": \"\",\n        \"description\": \"\"\n      }\n    },\n    {\n      \"column\": \"created_at\",\n      \"properties\": {\n        \"dtype\": \"date\",\n        \"min\": \"2023-01-01 00:16:00+00:00\",\n        \"max\": \"2023-06-30 18:52:00+00:00\",\n        \"num_unique_values\": 11669,\n        \"samples\": [\n          \"2023-02-20 01:20:00+00:00\",\n          \"2023-05-31 06:36:00+00:00\"\n        ],\n        \"semantic_type\": \"\",\n        \"description\": \"\"\n      }\n    },\n    {\n      \"column\": \"returned_at\",\n      \"properties\": {\n        \"dtype\": \"category\",\n        \"num_unique_values\": 1209,\n        \"samples\": [\n          \"2023-06-30 18:26:00+00:00\",\n          \"2023-06-18 01:14:00+00:00\"\n        ],\n        \"semantic_type\": \"\",\n        \"description\": \"\"\n      }\n    },\n    {\n      \"column\": \"shipped_at\",\n      \"properties\": {\n        \"dtype\": \"date\",\n        \"min\": \"2023-01-01 07:05:00+00:00\",\n        \"max\": \"2023-07-03 16:05:00+00:00\",\n        \"num_unique_values\": 7711,\n        \"samples\": [\n          \"2023-03-14 10:07:00+00:00\",\n          \"2023-04-18 06:04:00+00:00\"\n        ],\n        \"semantic_type\": \"\",\n        \"description\": \"\"\n      }\n    },\n    {\n      \"column\": \"delivered_at\",\n      \"properties\": {\n        \"dtype\": \"date\",\n        \"min\": \"2023-01-01 12:22:00+00:00\",\n        \"max\": \"2023-07-07 23:42:00+00:00\",\n        \"num_unique_values\": 4219,\n        \"samples\": [\n          \"2023-04-04 02:55:00+00:00\",\n          \"2023-05-21 00:22:00+00:00\"\n        ],\n        \"semantic_type\": \"\",\n        \"description\": \"\"\n      }\n    },\n    {\n      \"column\": \"num_of_item\",\n      \"properties\": {\n        \"dtype\": \"Int64\",\n        \"num_unique_values\": 4,\n        \"samples\": [\n          3,\n          4\n        ],\n        \"semantic_type\": \"\",\n        \"description\": \"\"\n      }\n    },\n    {\n      \"column\": \"not_shipped\",\n      \"properties\": {\n        \"dtype\": \"boolean\",\n        \"num_unique_values\": 2,\n        \"samples\": [\n          false,\n          true\n        ],\n        \"semantic_type\": \"\",\n        \"description\": \"\"\n      }\n    },\n    {\n      \"column\": \"not_delivered\",\n      \"properties\": {\n        \"dtype\": \"boolean\",\n        \"num_unique_values\": 2,\n        \"samples\": [\n          false,\n          true\n        ],\n        \"semantic_type\": \"\",\n        \"description\": \"\"\n      }\n    }\n  ]\n}"
            }
          },
          "metadata": {},
          "execution_count": 9
        }
      ]
    },
    {
      "cell_type": "markdown",
      "source": [
        "\n",
        "Dari hasil preprocessing, data sudah mengalami perbaikan dengan beberapa kolom tambahan:\n",
        "\n",
        "- returned_at sudah diisi dengan \"Not Returned\", sehingga tidak ada nilai kosong.\n",
        "- not_shipped dan not_delivered sudah dibuat untuk mengidentifikasi pesanan yang belum dikirim atau belum diterima.\n",
        "\n",
        "sekarang kita bisa lakukan visualisasi dan memulai analisis permasalahan kita."
      ],
      "metadata": {
        "id": "QFeVJ3e-kNmo"
      }
    },
    {
      "cell_type": "markdown",
      "source": [
        "# **- Data Visualization & Analysis**"
      ],
      "metadata": {
        "id": "aTNY5FhhVKXJ"
      }
    },
    {
      "cell_type": "markdown",
      "source": [
        "## 1. Seberapa efisien proses pengiriman?"
      ],
      "metadata": {
        "id": "e1Ud0QMHVYYG"
      }
    },
    {
      "cell_type": "markdown",
      "source": [
        "Tujuannya agar kita ingin mengetahui berapa banyak pesanan yang benar-benar dikirim dan diterima dibandingkan dengan total pesanan. Ini membantu memahami apakah sistem pengiriman bekerja dengan baik atau ada kendala."
      ],
      "metadata": {
        "id": "jltO-ynaoJXL"
      }
    },
    {
      "cell_type": "code",
      "source": [
        "total_orders = len(df)\n",
        "shipped_orders = df['shipped_at'].notna().sum()\n",
        "delivered_orders = df['delivered_at'].notna().sum()\n",
        "\n",
        "# Persentase efisiensi pengiriman\n",
        "shipping_efficiency = shipped_orders / total_orders * 100\n",
        "delivery_efficiency = delivered_orders / total_orders * 100\n",
        "\n",
        "print(f\"Efisiensi Pengiriman: {shipping_efficiency:.2f}%\")\n",
        "print(f\"Efisiensi Pengantaran: {delivery_efficiency:.2f}%\")"
      ],
      "metadata": {
        "colab": {
          "base_uri": "https://localhost:8080/"
        },
        "id": "oj-0ATY6oQd-",
        "outputId": "fb930fd2-6962-499a-dfb5-cabb632a49c8"
      },
      "execution_count": null,
      "outputs": [
        {
          "output_type": "stream",
          "name": "stdout",
          "text": [
            "Efisiensi Pengiriman: 65.34%\n",
            "Efisiensi Pengantaran: 35.49%\n"
          ]
        }
      ]
    },
    {
      "cell_type": "code",
      "source": [
        "# Visualisasi\n",
        "plt.figure(figsize=(6, 4))\n",
        "plt.bar(['Pesanan', 'Dikirim', 'Diterima'], [total_orders, shipped_orders, delivered_orders], color=['red', 'blue', 'green'])\n",
        "plt.xlabel('Tahapan')\n",
        "plt.ylabel('Jumlah Pesanan')\n",
        "plt.title('Efisiensi Pengiriman dan Pengantaran')\n",
        "plt.show()"
      ],
      "metadata": {
        "colab": {
          "base_uri": "https://localhost:8080/",
          "height": 410
        },
        "id": "KLGj44NyoUX7",
        "outputId": "4e6cd22a-23c9-4d6b-c921-d9469586d630"
      },
      "execution_count": null,
      "outputs": [
        {
          "output_type": "display_data",
          "data": {
            "text/plain": [
              "<Figure size 600x400 with 1 Axes>"
            ],
            "image/png": "[encoded data removed]"
          },
          "metadata": {}
        }
      ]
    },
    {
      "cell_type": "markdown",
      "source": [
        "Inisght yang bisa kita dapatkan adalah:\n",
        "\n",
        "- Efisiensi Pengiriman sebesar 65.04% menunjukkan bahwa gudang cukup bagus dalam memproses dan mengirim pesanan. Tapi, ada ruang untuk peningkatan. Karena ada banyak kemungkinan penyebab tidak terkirimnya pesanan, mulai dari masalah stok, kesalahan dalam proses pengambilan barang, hingga masalah internal di gudang.\n",
        "\n",
        "- Efisiensi Pengantaran sebesar 35.16% memperlihatkan adanya masalah yang cukup besar dalam tahap pengiriman akhir. Hanya sepertiga dari pesanan yang dikirim berhasil sampai ke pelanggan. Beberapa kemungkinan ini bisa terjadi antara lain:\n",
        "\n",
        "  - Masalah logistik dimana eterlambatan atau kesalahan dari pihak kurir pengiriman.\n",
        "\n",
        "  - Kesalahan alamat atau pelanggan tidak ada di tempat: Ini bisa menyebabkan pengiriman gagal.\n",
        "\n",
        "  - Masalah eksternal seperti cuaca buruk, hambatan transportasi, atau kendala regional yang kemungkinan bisa saja terjadi."
      ],
      "metadata": {
        "id": "h78fsTMNcOjY"
      }
    },
    {
      "cell_type": "markdown",
      "source": [
        "## 2. Berapa rata-rata waktu pengiriman dari pesanan dibuat hingga diterima pelanggan?"
      ],
      "metadata": {
        "id": "hfzb1aebodTD"
      }
    },
    {
      "cell_type": "markdown",
      "source": [
        "Mengetahui seberapa cepat pesanan sampai ke pelanggan adalah faktor penting dalam kepuasan pelanggan. Jika waktu pengiriman terlalu lama, bisa jadi ada masalah di sistem logistik atau stok barang."
      ],
      "metadata": {
        "id": "r8LxC_PRoiaC"
      }
    },
    {
      "cell_type": "code",
      "source": [
        "df['delivery_time'] = (df['delivered_at'] - df['created_at']).dt.days\n",
        "avg_delivery_time = df['delivery_time'].mean()\n",
        "\n",
        "print(f\"Rata-rata waktu pengiriman: {avg_delivery_time:.2f} hari\")"
      ],
      "metadata": {
        "colab": {
          "base_uri": "https://localhost:8080/"
        },
        "id": "p3q4fGvIojna",
        "outputId": "daa57575-da5d-4c10-faa1-91c55e1aa0fa"
      },
      "execution_count": null,
      "outputs": [
        {
          "output_type": "stream",
          "name": "stdout",
          "text": [
            "Rata-rata waktu pengiriman: 3.48 hari\n"
          ]
        }
      ]
    },
    {
      "cell_type": "code",
      "source": [
        "# Visualisasi distribusi waktu pengiriman\n",
        "import seaborn as sns\n",
        "\n",
        "plt.figure(figsize=(8, 5))\n",
        "sns.histplot(df['delivery_time'].dropna(), bins=20)\n",
        "plt.xlabel(\"Waktu Pengiriman (hari)\")\n",
        "plt.ylabel(\"Frekuensi\")\n",
        "plt.title(\"Distribusi Waktu Pengiriman\")\n",
        "plt.show()"
      ],
      "metadata": {
        "colab": {
          "base_uri": "https://localhost:8080/",
          "height": 487
        },
        "id": "YDRmqqMAon75",
        "outputId": "c4e40965-9aa2-4724-86a9-90ca5a665a7a"
      },
      "execution_count": null,
      "outputs": [
        {
          "output_type": "display_data",
          "data": {
            "text/plain": [
              "<Figure size 800x500 with 1 Axes>"
            ],
            "image/png": "[encoded data removed]"
          },
          "metadata": {}
        }
      ]
    },
    {
      "cell_type": "markdown",
      "source": [
        "Insight yang dapat diambil:\n",
        "\n",
        "- Secara keseluruhan grafik menunjukkan waktu pengiriman yang cukup bagus dan efisien, sebagian besar pesanan diterima dalam waktu 3 hingga 4 hari.\n",
        "\n",
        "- Terlihat beberapa pesanan yang dikirim dalam 1 hari menunjukkan adanya efisiensi yang sangat bagus untuk beberapa pengiriman, ini bisa terjadi kemungkinan berkat lokasi pengiriman yang dekat atau pengiriman yang lebih diprioritaskan.\n",
        "\n",
        "- Terlihat ada sebagian pengiriman yang membutuhkan waktu yang lama yaitu 6 - 7 hari yang berkemungkinan karena jarak pengiriman pesanan yang memiliki jarak yang lebih jauh sehingga memerlukan waktu lebih lama untuk sampai. Diluar dari hal tersebut kemungkinan dari faktor internal seperti pemrosesan di gudang atau hambatan transportasi."
      ],
      "metadata": {
        "id": "H_KFOMcxeETy"
      }
    },
    {
      "cell_type": "markdown",
      "source": [
        "## 3. Perbandingan Pesanan Berhasil vs. Dibatalkan"
      ],
      "metadata": {
        "id": "llrBIfrcozit"
      }
    },
    {
      "cell_type": "markdown",
      "source": [
        "Melihat jumlah pesanan yang dibatalkan dibandingkan yang berhasil dikirim membantu mengetahui apakah ada masalah dalam sistem pemesanan atau stok barang."
      ],
      "metadata": {
        "id": "9Pz7VVZDo2pC"
      }
    },
    {
      "cell_type": "code",
      "source": [
        "order_status_counts = df['status'].value_counts()\n",
        "print(order_status_counts)"
      ],
      "metadata": {
        "colab": {
          "base_uri": "https://localhost:8080/"
        },
        "id": "8Deh7hAUo7Md",
        "outputId": "d81526ab-c9ef-486f-c339-0fa4f15e96d9"
      },
      "execution_count": null,
      "outputs": [
        {
          "output_type": "stream",
          "name": "stdout",
          "text": [
            "status\n",
            "Shipped       3575\n",
            "Complete      3041\n",
            "Processing    2457\n",
            "Cancelled     1693\n",
            "Returned      1209\n",
            "Name: count, dtype: int64\n"
          ]
        }
      ]
    },
    {
      "cell_type": "code",
      "source": [
        "# Visualisasi\n",
        "plt.figure(figsize=(6, 4))\n",
        "order_status_counts.plot(kind='bar', color=['orange', 'green', 'teal', 'red', 'gray'])\n",
        "plt.xlabel(\"Status Pesanan\")\n",
        "plt.ylabel(\"Jumlah Pesanan\")\n",
        "plt.title(\"Perbandingan Status Pesanan\")\n",
        "plt.show()"
      ],
      "metadata": {
        "colab": {
          "base_uri": "https://localhost:8080/",
          "height": 470
        },
        "id": "pERRMS2Zo8wQ",
        "outputId": "9be720bb-9e57-425c-ab7a-2be75c0bb4e4"
      },
      "execution_count": null,
      "outputs": [
        {
          "output_type": "display_data",
          "data": {
            "text/plain": [
              "<Figure size 600x400 with 1 Axes>"
            ],
            "image/png": "[encoded data removed]"
          },
          "metadata": {}
        }
      ]
    },
    {
      "cell_type": "markdown",
      "source": [
        "Insight yang dapat diambil:\n",
        "\n",
        "- Grafik menunjukkan bahwa pesanan yang dikirim (Shipped) dan selesai (Complete) memiliki jumlah yang cukup besar mengindikasikan bahwa sebagian besar pesanan sudah dapat diproses dan dikirim dengan baik.\n",
        "\n",
        "- Terlihat 1.814 pesanan yang dibatalkan, yang merupakan jumlah yang cukup banyak. Kemungkinan penyebab pembatalan ini bisa saja ketersediaan Stok yang habis bisa membuat pesanan dibatalkan. Ataupun kembali lagi ke masalah dengan pengiriman seperti keterlambatan sehingga pelanggan mungkin membatalkan pesanan mereka.\n",
        "\n",
        "Beberapa hal yang bisa dilakukan dalam mencegah hal ini dapat terjadi, yaitu:\n",
        "- Optimasi Manajemen Stok: Memastikan bahwa informasi stok selalu up-to-date untuk menghindari pembatalan pesanan.\n",
        "- Peningkatan Kualitas Produk: Menjaga kualitas produk agar sesuai dengan ekspektasi pelanggan untuk mengurangi pengembalian.\n",
        "- Efisiensi Proses Gudang: Meningkatkan efisiensi pemrosesan di gudang untuk mengurangi jumlah pesanan yang menunggu."
      ],
      "metadata": {
        "id": "f6LsYw1fjBpo"
      }
    },
    {
      "cell_type": "markdown",
      "source": [
        "## 4. Apakah ada indikasi masalah dalam pengelolaan stok berdasarkan jumlah pesanan yang tidak terkirim?"
      ],
      "metadata": {
        "id": "etuWjb_7pse6"
      }
    },
    {
      "cell_type": "markdown",
      "source": [
        "Pesanan yang tidak terkirim bisa jadi disebabkan oleh stok barang yang tidak tersedia atau masalah logistik. Jika jumlahnya tinggi, maka ada indikasi masalah dalam pengelolaan stok."
      ],
      "metadata": {
        "id": "LCUMzCDIpx-j"
      }
    },
    {
      "cell_type": "code",
      "source": [
        "stock_issues = df['not_shipped'].sum()\n",
        "stock_issue_rate = stock_issues / total_orders * 100\n",
        "\n",
        "print(f\"Jumlah pesanan tidak terkirim: {stock_issues}\")\n",
        "print(f\"Persentase pesanan tidak terkirim: {stock_issue_rate:.2f}%\")"
      ],
      "metadata": {
        "colab": {
          "base_uri": "https://localhost:8080/"
        },
        "id": "ooFB96sIp1pE",
        "outputId": "9e448313-0111-4ba5-c559-0766897dd8c3"
      },
      "execution_count": null,
      "outputs": [
        {
          "output_type": "stream",
          "name": "stdout",
          "text": [
            "Jumlah pesanan tidak terkirim: 4150\n",
            "Persentase pesanan tidak terkirim: 34.66%\n"
          ]
        }
      ]
    },
    {
      "cell_type": "markdown",
      "source": [
        "Jika dilihat dari persentasenya jumlah pesanan yang tidak terkirim mencapai 34.96% dari keseluruhan pesanan, ini menyentuh angka yang cukup besar. Adanya proporsi besar dari pesanan yang tak terkirim ini memerlukan analysis lebih lanjut tentang mengapa hal ini bisa terjadi."
      ],
      "metadata": {
        "id": "nxj6RUvXkhcp"
      }
    },
    {
      "cell_type": "markdown",
      "source": [
        "## 5. Bagaimana distribusi jumlah barang dalam satu pesanan?"
      ],
      "metadata": {
        "id": "PrB0pJYap7gF"
      }
    },
    {
      "cell_type": "markdown",
      "source": [
        "Hal ini dilakukan untuk mengetahui jumlah barang per pesanan membantu memahami pola belanja pelanggan dan mengoptimalkan stok barang."
      ],
      "metadata": {
        "id": "-iPqQdoAqCVt"
      }
    },
    {
      "cell_type": "code",
      "source": [
        "plt.figure(figsize=(8,5))\n",
        "sns.histplot(df['num_of_item'], bins=20, kde=True)\n",
        "plt.xlabel(\"Jumlah Barang dalam Pesanan\")\n",
        "plt.ylabel(\"Frekuensi\")\n",
        "plt.title(\"Distribusi Jumlah Barang dalam Pesanan\")\n",
        "plt.show()"
      ],
      "metadata": {
        "colab": {
          "base_uri": "https://localhost:8080/",
          "height": 487
        },
        "id": "IK1QXKdiqBAP",
        "outputId": "c353a42b-7a2d-44f5-db5e-7b8fb9d337d2"
      },
      "execution_count": null,
      "outputs": [
        {
          "output_type": "display_data",
          "data": {
            "text/plain": [
              "<Figure size 800x500 with 1 Axes>"
            ],
            "image/png": "[encoded data removed]"
          },
          "metadata": {}
        }
      ]
    },
    {
      "cell_type": "markdown",
      "source": [
        "Terlihat bahwa pembelian 1 barang memiliki frekuensi yang sangat tinggi jika dibandingkan dengan yang lainnya. Kemungkinan produk yang dijual merupakan barang dengan harga tinggi atau bersifat spesifik, sehingga pelanggan hanya membutuhkan satu item.\n",
        "\n",
        "Beberapa hal yang mungkin bisa kita lakukan dalam meningkatkan frekuensi dari pembelian jumlah barang lebih dari 1 yaitu bisa dengan menyediakan rekomendasi produk rekomendasi untuk pelanggan atau yang populer sehingga mendorong pelanggan menambah lebih banyak barang atau juga bisa menawarkan diskon untuk pembelian dalam jumlah tertentu, seperti \"Beli 2 gratis 1\"."
      ],
      "metadata": {
        "id": "KmHEalDVVCzL"
      }
    },
    {
      "cell_type": "markdown",
      "source": [
        "## 6. Apakah ada perbedaan signifikan dalam waktu pengiriman berdasarkan status pesanan atau faktor lainnya?"
      ],
      "metadata": {
        "id": "zVL3UVY5qH_H"
      }
    },
    {
      "cell_type": "markdown",
      "source": [
        "Jika ada perbedaan waktu pengiriman yang signifikan berdasarkan status pesanan, kita bisa mencari penyebabnya."
      ],
      "metadata": {
        "id": "-blT7bkRqMFI"
      }
    },
    {
      "cell_type": "code",
      "source": [
        "delivered_orders = df[df['delivered_at'].notna()]\n",
        "delivered_orders_grouped = delivered_orders.groupby(\"status\")['delivery_time']\n",
        "\n",
        "# Uji statistik\n",
        "anova_result = stats.f_oneway(*[group for _, group in delivered_orders_grouped])\n",
        "\n",
        "print(f\"p-value: {anova_result.pvalue:.5f}\")\n",
        "if anova_result.pvalue < 0.05:\n",
        "    print(\"Terdapat perbedaan signifikan dalam waktu pengiriman berdasarkan status pesanan.\")\n",
        "else:\n",
        "    print(\"Tidak ada perbedaan signifikan dalam waktu pengiriman berdasarkan status pesanan.\")\n"
      ],
      "metadata": {
        "colab": {
          "base_uri": "https://localhost:8080/"
        },
        "id": "z7DGI4yRqPcM",
        "outputId": "0b9ad09b-64cc-4307-cfaf-23dd34f71299"
      },
      "execution_count": null,
      "outputs": [
        {
          "output_type": "stream",
          "name": "stdout",
          "text": [
            "p-value: 0.89159\n",
            "Tidak ada perbedaan signifikan dalam waktu pengiriman berdasarkan status pesanan.\n"
          ]
        }
      ]
    },
    {
      "cell_type": "markdown",
      "source": [
        "Bisa kita lihat dari hasil p-valuenya yang berarti ada perbedaan signifikan dalam waktu pengiriman di antara berbagai status pesanan. Ini mengindikasikan bahwa status pesanan (seperti 'Complete', 'Shipped', 'Processing', 'Cancelled', 'Returned') memang dipengaruhi oleh lama waktu pengiriman. Pesanan dengan status tertentu mungkin memiliki waktu pengiriman yang lebih cepat atau lebih lambat dibandingkan dengan yang lain.\n",
        "\n",
        "Pesanan yang berhasil diselesaikan ('Complete') atau dikirim ('Shipped') kemungkinan melalui proses pemrosesan dan pengiriman yang lebih efisien. Pesanan yang masih dalam tahap pemrosesan mungkin mengalami hambatan, seperti keterbatasan sumber daya, antrian pesanan yang panjang, atau masalah administrasi.\n",
        "\n",
        "Sebaliknya untuk pesanan 'Cancelled' dan 'Returned' meskipun pesanan ini mungkin tidak selalu sampai ke tahap pengiriman, namun proses yang terlibat sebelum pembatalan atau pengembalian bisa mempengaruhi rata-rata waktu pengiriman secara keseluruhan."
      ],
      "metadata": {
        "id": "JLEbLLI8W0m3"
      }
    },
    {
      "cell_type": "markdown",
      "source": [
        "# **- Simpan Dataset ke CSV**"
      ],
      "metadata": {
        "id": "tKJVzQRnYS6P"
      }
    },
    {
      "cell_type": "code",
      "source": [
        "# Menyimpan dataset yang telah kita lakukan analisis tadi, untuk kita gunakan di Tableau\n",
        "\n",
        "df.to_csv('Shipping_and_Stock.csv', index=False)"
      ],
      "metadata": {
        "id": "t96QlIcHYZhP"
      },
      "execution_count": null,
      "outputs": []
    }
  ]
}